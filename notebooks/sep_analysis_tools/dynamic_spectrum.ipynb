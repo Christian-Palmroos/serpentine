{
 "cells": [
  {
   "cell_type": "code",
   "execution_count": 1,
   "id": "946a2977",
   "metadata": {},
   "outputs": [],
   "source": [
    "from seppy.tools import Event\n",
    "import seppy.tools.widgets as w\n",
    "import datetime, os"
   ]
  },
  {
   "cell_type": "code",
   "execution_count": 2,
   "id": "e07d682e",
   "metadata": {},
   "outputs": [
    {
     "name": "stdout",
     "output_type": "stream",
     "text": [
      "0.1.dev52+g4ab3bad.d20221025\n"
     ]
    }
   ],
   "source": [
    "from seppy.version import __version__\n",
    "print(__version__)"
   ]
  },
  {
   "cell_type": "markdown",
   "id": "5740f479",
   "metadata": {},
   "source": [
    "# Choose spacecraft, sensor, viewing direction and particle species from the drop-down menu:"
   ]
  },
  {
   "cell_type": "code",
   "execution_count": 3,
   "id": "0695a379",
   "metadata": {},
   "outputs": [
    {
     "data": {
      "application/vnd.jupyter.widget-view+json": {
       "model_id": "ce39a9aff546489987d449ff1f947482",
       "version_major": 2,
       "version_minor": 0
      },
      "text/plain": [
       "Dropdown(description='Spacecraft:', options=('STEREO-A', 'STEREO-B', 'Solar Orbiter', 'SOHO', 'PSP'), value='S…"
      ]
     },
     "metadata": {},
     "output_type": "display_data"
    },
    {
     "data": {
      "application/vnd.jupyter.widget-view+json": {
       "model_id": "622d9a2f7fb3480dbdd20525c15d07e4",
       "version_major": 2,
       "version_minor": 0
      },
      "text/plain": [
       "Dropdown(description='Sensor:', options=('SEPT', 'HET'), value='SEPT')"
      ]
     },
     "metadata": {},
     "output_type": "display_data"
    },
    {
     "data": {
      "application/vnd.jupyter.widget-view+json": {
       "model_id": "d7a7308b1a8141e6991a84d0f355e811",
       "version_major": 2,
       "version_minor": 0
      },
      "text/plain": [
       "Dropdown(description='Viewing:', options=('sun', 'asun', 'north', 'south'), value='sun')"
      ]
     },
     "metadata": {},
     "output_type": "display_data"
    },
    {
     "data": {
      "application/vnd.jupyter.widget-view+json": {
       "model_id": "01878c28cec34f8c9954b4755e845dc0",
       "version_major": 2,
       "version_minor": 0
      },
      "text/plain": [
       "Dropdown(description='Species:', options=('ions', 'electrons'), value='ions')"
      ]
     },
     "metadata": {},
     "output_type": "display_data"
    },
    {
     "data": {
      "application/vnd.jupyter.widget-view+json": {
       "model_id": "744498a1bd9842f2849a8c76b73f2978",
       "version_major": 2,
       "version_minor": 0
      },
      "text/plain": [
       "Dropdown(description='Plot radio spectrum for:', options={'None': None, 'STEREO-A': ('ahead', 'STEREO-A'), 'ST…"
      ]
     },
     "metadata": {},
     "output_type": "display_data"
    }
   ],
   "source": [
    "display(w.spacecraft_drop, w.sensor_drop, w.view_drop, w.species_drop)\n",
    "display(w.radio_drop)"
   ]
  },
  {
   "cell_type": "markdown",
   "id": "37868cab",
   "metadata": {},
   "source": [
    "# Set the data path and date range to load data:"
   ]
  },
  {
   "cell_type": "code",
   "execution_count": 4,
   "id": "fc0febd2",
   "metadata": {},
   "outputs": [],
   "source": [
    "# The path to where data is located / to be downloaded (by default the current directory)\n",
    "data_path = f\"{os.getcwd()}/data\"\n",
    "\n",
    "# Format of date: year, month, day\n",
    "startdate = datetime.date(2021, 10, 28)\n",
    "enddate = datetime.date(2021, 10, 29)\n",
    "\n",
    "# Set the time range for the plot (Leave to None to plot the entire data file):\n",
    "plot_range = [\"2021-10-28 00:00\", \"2021-10-28 23:00\"]\n",
    "\n",
    "# Set the averaging period, or leave to None to not resample data\n",
    "# averaging should be a pandas-compatible string, e.g. '1h', '2min', '15s'\n",
    "averaging = None #\"2min\"\n",
    "\n",
    "# Select the color map used for the plot, by default 'magma'\n",
    "# for avavailable options, cf. https://matplotlib.org/stable/tutorials/colors/colormaps.html\n",
    "cmap = 'magma'  # e.g. 'jet', 'viridis', 'magma'"
   ]
  },
  {
   "cell_type": "markdown",
   "id": "621cc062",
   "metadata": {},
   "source": [
    "# Just run, don't edit:"
   ]
  },
  {
   "cell_type": "code",
   "execution_count": 7,
   "id": "0205c9e1",
   "metadata": {
    "scrolled": true
   },
   "outputs": [],
   "source": [
    "# Get event data:\n",
    "Event_class = Event(spacecraft=w.spacecraft_drop.value, sensor=w.sensor_drop.value, \n",
    "                    data_level='l2', species = w.species_drop.value,\n",
    "                    start_date = startdate, end_date = enddate, \n",
    "                    radio_spacecraft = w.radio_drop.value,\n",
    "                    data_path = data_path)"
   ]
  },
  {
   "cell_type": "code",
   "execution_count": 11,
   "id": "54cededb",
   "metadata": {},
   "outputs": [
    {
     "data": {
      "text/html": [
       "<div>\n",
       "<style scoped>\n",
       "    .dataframe tbody tr th:only-of-type {\n",
       "        vertical-align: middle;\n",
       "    }\n",
       "\n",
       "    .dataframe tbody tr th {\n",
       "        vertical-align: top;\n",
       "    }\n",
       "\n",
       "    .dataframe thead th {\n",
       "        text-align: right;\n",
       "    }\n",
       "</style>\n",
       "<table border=\"1\" class=\"dataframe\">\n",
       "  <thead>\n",
       "    <tr style=\"text-align: right;\">\n",
       "      <th></th>\n",
       "      <th>A_H_Flux_0</th>\n",
       "      <th>A_H_Flux_1</th>\n",
       "      <th>A_H_Flux_2</th>\n",
       "      <th>A_H_Flux_3</th>\n",
       "      <th>A_H_Flux_4</th>\n",
       "      <th>A_H_Flux_5</th>\n",
       "      <th>A_H_Flux_6</th>\n",
       "      <th>A_H_Flux_7</th>\n",
       "      <th>A_H_Flux_8</th>\n",
       "      <th>A_H_Flux_9</th>\n",
       "      <th>A_H_Flux_10</th>\n",
       "      <th>A_H_Flux_11</th>\n",
       "      <th>A_H_Flux_12</th>\n",
       "      <th>A_H_Flux_13</th>\n",
       "      <th>A_H_Flux_14</th>\n",
       "    </tr>\n",
       "    <tr>\n",
       "      <th>Epoch</th>\n",
       "      <th></th>\n",
       "      <th></th>\n",
       "      <th></th>\n",
       "      <th></th>\n",
       "      <th></th>\n",
       "      <th></th>\n",
       "      <th></th>\n",
       "      <th></th>\n",
       "      <th></th>\n",
       "      <th></th>\n",
       "      <th></th>\n",
       "      <th></th>\n",
       "      <th></th>\n",
       "      <th></th>\n",
       "      <th></th>\n",
       "    </tr>\n",
       "  </thead>\n",
       "  <tbody>\n",
       "    <tr>\n",
       "      <th>2021-10-28 07:54:29.492080</th>\n",
       "      <td>NaN</td>\n",
       "      <td>0.000000</td>\n",
       "      <td>0.000000</td>\n",
       "      <td>0.000000</td>\n",
       "      <td>0.000000</td>\n",
       "      <td>0.000000</td>\n",
       "      <td>0.000000</td>\n",
       "      <td>0.000000</td>\n",
       "      <td>0.000000</td>\n",
       "      <td>0.000000</td>\n",
       "      <td>0.000000</td>\n",
       "      <td>0.000000</td>\n",
       "      <td>0.000000</td>\n",
       "      <td>NaN</td>\n",
       "      <td>NaN</td>\n",
       "    </tr>\n",
       "    <tr>\n",
       "      <th>2021-10-28 07:55:29.492084</th>\n",
       "      <td>NaN</td>\n",
       "      <td>0.000000</td>\n",
       "      <td>0.000000</td>\n",
       "      <td>0.000000</td>\n",
       "      <td>0.000000</td>\n",
       "      <td>0.000000</td>\n",
       "      <td>0.000000</td>\n",
       "      <td>0.000000</td>\n",
       "      <td>0.000000</td>\n",
       "      <td>0.000000</td>\n",
       "      <td>0.000000</td>\n",
       "      <td>0.000000</td>\n",
       "      <td>0.000000</td>\n",
       "      <td>NaN</td>\n",
       "      <td>NaN</td>\n",
       "    </tr>\n",
       "    <tr>\n",
       "      <th>2021-10-28 07:56:29.492088</th>\n",
       "      <td>NaN</td>\n",
       "      <td>0.000000</td>\n",
       "      <td>0.000000</td>\n",
       "      <td>0.000000</td>\n",
       "      <td>0.000000</td>\n",
       "      <td>0.000000</td>\n",
       "      <td>0.000000</td>\n",
       "      <td>0.000000</td>\n",
       "      <td>0.000000</td>\n",
       "      <td>0.000000</td>\n",
       "      <td>0.000000</td>\n",
       "      <td>0.000000</td>\n",
       "      <td>0.000000</td>\n",
       "      <td>NaN</td>\n",
       "      <td>NaN</td>\n",
       "    </tr>\n",
       "    <tr>\n",
       "      <th>2021-10-28 07:57:29.492091</th>\n",
       "      <td>NaN</td>\n",
       "      <td>0.000000</td>\n",
       "      <td>0.000000</td>\n",
       "      <td>0.000000</td>\n",
       "      <td>0.000000</td>\n",
       "      <td>0.000000</td>\n",
       "      <td>0.000000</td>\n",
       "      <td>0.000000</td>\n",
       "      <td>0.000000</td>\n",
       "      <td>0.000000</td>\n",
       "      <td>0.000000</td>\n",
       "      <td>0.000000</td>\n",
       "      <td>0.000000</td>\n",
       "      <td>NaN</td>\n",
       "      <td>NaN</td>\n",
       "    </tr>\n",
       "    <tr>\n",
       "      <th>2021-10-28 07:58:29.492095</th>\n",
       "      <td>NaN</td>\n",
       "      <td>0.000000</td>\n",
       "      <td>0.000000</td>\n",
       "      <td>0.000000</td>\n",
       "      <td>0.000000</td>\n",
       "      <td>0.000000</td>\n",
       "      <td>0.000000</td>\n",
       "      <td>0.000000</td>\n",
       "      <td>0.000000</td>\n",
       "      <td>0.000000</td>\n",
       "      <td>0.000000</td>\n",
       "      <td>0.000000</td>\n",
       "      <td>0.000000</td>\n",
       "      <td>NaN</td>\n",
       "      <td>NaN</td>\n",
       "    </tr>\n",
       "    <tr>\n",
       "      <th>...</th>\n",
       "      <td>...</td>\n",
       "      <td>...</td>\n",
       "      <td>...</td>\n",
       "      <td>...</td>\n",
       "      <td>...</td>\n",
       "      <td>...</td>\n",
       "      <td>...</td>\n",
       "      <td>...</td>\n",
       "      <td>...</td>\n",
       "      <td>...</td>\n",
       "      <td>...</td>\n",
       "      <td>...</td>\n",
       "      <td>...</td>\n",
       "      <td>...</td>\n",
       "      <td>...</td>\n",
       "    </tr>\n",
       "    <tr>\n",
       "      <th>2021-10-28 23:55:29.495639</th>\n",
       "      <td>NaN</td>\n",
       "      <td>40.320976</td>\n",
       "      <td>72.275276</td>\n",
       "      <td>91.840820</td>\n",
       "      <td>57.263573</td>\n",
       "      <td>36.692844</td>\n",
       "      <td>32.999931</td>\n",
       "      <td>23.241554</td>\n",
       "      <td>16.930428</td>\n",
       "      <td>12.085028</td>\n",
       "      <td>7.726330</td>\n",
       "      <td>4.866440</td>\n",
       "      <td>5.430527</td>\n",
       "      <td>NaN</td>\n",
       "      <td>NaN</td>\n",
       "    </tr>\n",
       "    <tr>\n",
       "      <th>2021-10-28 23:56:29.495643</th>\n",
       "      <td>NaN</td>\n",
       "      <td>54.999996</td>\n",
       "      <td>76.965523</td>\n",
       "      <td>92.890160</td>\n",
       "      <td>61.148682</td>\n",
       "      <td>39.129585</td>\n",
       "      <td>31.869717</td>\n",
       "      <td>21.741524</td>\n",
       "      <td>15.696458</td>\n",
       "      <td>12.448166</td>\n",
       "      <td>7.412691</td>\n",
       "      <td>4.478710</td>\n",
       "      <td>3.591531</td>\n",
       "      <td>NaN</td>\n",
       "      <td>NaN</td>\n",
       "    </tr>\n",
       "    <tr>\n",
       "      <th>2021-10-28 23:57:29.495647</th>\n",
       "      <td>NaN</td>\n",
       "      <td>34.756947</td>\n",
       "      <td>73.119324</td>\n",
       "      <td>86.209236</td>\n",
       "      <td>58.169487</td>\n",
       "      <td>37.260960</td>\n",
       "      <td>33.824799</td>\n",
       "      <td>24.028187</td>\n",
       "      <td>15.063509</td>\n",
       "      <td>13.045950</td>\n",
       "      <td>7.761826</td>\n",
       "      <td>5.025220</td>\n",
       "      <td>1.783295</td>\n",
       "      <td>NaN</td>\n",
       "      <td>NaN</td>\n",
       "    </tr>\n",
       "    <tr>\n",
       "      <th>2021-10-28 23:58:29.495651</th>\n",
       "      <td>NaN</td>\n",
       "      <td>49.871716</td>\n",
       "      <td>71.340897</td>\n",
       "      <td>89.896164</td>\n",
       "      <td>61.686710</td>\n",
       "      <td>36.355961</td>\n",
       "      <td>31.742411</td>\n",
       "      <td>22.254120</td>\n",
       "      <td>15.919316</td>\n",
       "      <td>12.782759</td>\n",
       "      <td>8.198426</td>\n",
       "      <td>4.351188</td>\n",
       "      <td>4.477896</td>\n",
       "      <td>NaN</td>\n",
       "      <td>NaN</td>\n",
       "    </tr>\n",
       "    <tr>\n",
       "      <th>2021-10-28 23:59:29.495654</th>\n",
       "      <td>NaN</td>\n",
       "      <td>78.801453</td>\n",
       "      <td>68.983269</td>\n",
       "      <td>88.958549</td>\n",
       "      <td>56.378948</td>\n",
       "      <td>37.967361</td>\n",
       "      <td>32.066868</td>\n",
       "      <td>23.445116</td>\n",
       "      <td>16.154240</td>\n",
       "      <td>11.718718</td>\n",
       "      <td>7.202294</td>\n",
       "      <td>5.614778</td>\n",
       "      <td>7.075448</td>\n",
       "      <td>NaN</td>\n",
       "      <td>NaN</td>\n",
       "    </tr>\n",
       "  </tbody>\n",
       "</table>\n",
       "<p>966 rows × 15 columns</p>\n",
       "</div>"
      ],
      "text/plain": [
       "                            A_H_Flux_0  A_H_Flux_1  A_H_Flux_2  A_H_Flux_3  \\\n",
       "Epoch                                                                        \n",
       "2021-10-28 07:54:29.492080         NaN    0.000000    0.000000    0.000000   \n",
       "2021-10-28 07:55:29.492084         NaN    0.000000    0.000000    0.000000   \n",
       "2021-10-28 07:56:29.492088         NaN    0.000000    0.000000    0.000000   \n",
       "2021-10-28 07:57:29.492091         NaN    0.000000    0.000000    0.000000   \n",
       "2021-10-28 07:58:29.492095         NaN    0.000000    0.000000    0.000000   \n",
       "...                                ...         ...         ...         ...   \n",
       "2021-10-28 23:55:29.495639         NaN   40.320976   72.275276   91.840820   \n",
       "2021-10-28 23:56:29.495643         NaN   54.999996   76.965523   92.890160   \n",
       "2021-10-28 23:57:29.495647         NaN   34.756947   73.119324   86.209236   \n",
       "2021-10-28 23:58:29.495651         NaN   49.871716   71.340897   89.896164   \n",
       "2021-10-28 23:59:29.495654         NaN   78.801453   68.983269   88.958549   \n",
       "\n",
       "                            A_H_Flux_4  A_H_Flux_5  A_H_Flux_6  A_H_Flux_7  \\\n",
       "Epoch                                                                        \n",
       "2021-10-28 07:54:29.492080    0.000000    0.000000    0.000000    0.000000   \n",
       "2021-10-28 07:55:29.492084    0.000000    0.000000    0.000000    0.000000   \n",
       "2021-10-28 07:56:29.492088    0.000000    0.000000    0.000000    0.000000   \n",
       "2021-10-28 07:57:29.492091    0.000000    0.000000    0.000000    0.000000   \n",
       "2021-10-28 07:58:29.492095    0.000000    0.000000    0.000000    0.000000   \n",
       "...                                ...         ...         ...         ...   \n",
       "2021-10-28 23:55:29.495639   57.263573   36.692844   32.999931   23.241554   \n",
       "2021-10-28 23:56:29.495643   61.148682   39.129585   31.869717   21.741524   \n",
       "2021-10-28 23:57:29.495647   58.169487   37.260960   33.824799   24.028187   \n",
       "2021-10-28 23:58:29.495651   61.686710   36.355961   31.742411   22.254120   \n",
       "2021-10-28 23:59:29.495654   56.378948   37.967361   32.066868   23.445116   \n",
       "\n",
       "                            A_H_Flux_8  A_H_Flux_9  A_H_Flux_10  A_H_Flux_11  \\\n",
       "Epoch                                                                          \n",
       "2021-10-28 07:54:29.492080    0.000000    0.000000     0.000000     0.000000   \n",
       "2021-10-28 07:55:29.492084    0.000000    0.000000     0.000000     0.000000   \n",
       "2021-10-28 07:56:29.492088    0.000000    0.000000     0.000000     0.000000   \n",
       "2021-10-28 07:57:29.492091    0.000000    0.000000     0.000000     0.000000   \n",
       "2021-10-28 07:58:29.492095    0.000000    0.000000     0.000000     0.000000   \n",
       "...                                ...         ...          ...          ...   \n",
       "2021-10-28 23:55:29.495639   16.930428   12.085028     7.726330     4.866440   \n",
       "2021-10-28 23:56:29.495643   15.696458   12.448166     7.412691     4.478710   \n",
       "2021-10-28 23:57:29.495647   15.063509   13.045950     7.761826     5.025220   \n",
       "2021-10-28 23:58:29.495651   15.919316   12.782759     8.198426     4.351188   \n",
       "2021-10-28 23:59:29.495654   16.154240   11.718718     7.202294     5.614778   \n",
       "\n",
       "                            A_H_Flux_12  A_H_Flux_13  A_H_Flux_14  \n",
       "Epoch                                                              \n",
       "2021-10-28 07:54:29.492080     0.000000          NaN          NaN  \n",
       "2021-10-28 07:55:29.492084     0.000000          NaN          NaN  \n",
       "2021-10-28 07:56:29.492088     0.000000          NaN          NaN  \n",
       "2021-10-28 07:57:29.492091     0.000000          NaN          NaN  \n",
       "2021-10-28 07:58:29.492095     0.000000          NaN          NaN  \n",
       "...                                 ...          ...          ...  \n",
       "2021-10-28 23:55:29.495639     5.430527          NaN          NaN  \n",
       "2021-10-28 23:56:29.495643     3.591531          NaN          NaN  \n",
       "2021-10-28 23:57:29.495647     1.783295          NaN          NaN  \n",
       "2021-10-28 23:58:29.495651     4.477896          NaN          NaN  \n",
       "2021-10-28 23:59:29.495654     7.075448          NaN          NaN  \n",
       "\n",
       "[966 rows x 15 columns]"
      ]
     },
     "execution_count": 11,
     "metadata": {},
     "output_type": "execute_result"
    }
   ],
   "source": [
    "Event_class.choose_data(\"A\")\n",
    "Event_class.current_df_i"
   ]
  },
  {
   "cell_type": "code",
   "execution_count": 6,
   "id": "f262b279",
   "metadata": {
    "scrolled": false
   },
   "outputs": [
    {
     "data": {
      "image/png": "[encoded data removed]",
      "text/plain": [
       "<Figure size 1944x1008 with 2 Axes>"
      ]
     },
     "metadata": {
      "needs_background": "light"
     },
     "output_type": "display_data"
    }
   ],
   "source": [
    "Event_class.dynamic_spectrum(w.view_drop.value, cmap=cmap, xlim=plot_range, resample=averaging)"
   ]
  },
  {
   "cell_type": "markdown",
   "id": "1631c96c",
   "metadata": {},
   "source": [
    "# Saving the plot"
   ]
  },
  {
   "cell_type": "code",
   "execution_count": 7,
   "id": "e2fec196",
   "metadata": {},
   "outputs": [],
   "source": [
    "# Path to save the plots\n",
    "plot_path = f'{os.getcwd()}'\n",
    "\n",
    "# Use a pre-generated name for the file:\n",
    "if w.radio_drop.value is None:\n",
    "    file_name = f\"{plot_path}{os.sep}{w.spacecraft_drop.value.replace(' ', '_')}_{w.sensor_drop.value}_{w.view_drop.value+'_' if w.view_drop.value is not None else ''}{w.species_drop.value}{'_'+averaging if averaging is not None else ''}_{startdate.strftime('%Y%m%d')}.png\"\n",
    "else:\n",
    "    file_name = f\"{plot_path}{os.sep}{w.radio_drop.value[1]}_radio_spectrum_{w.spacecraft_drop.value.replace(' ', '_')}_{w.sensor_drop.value}_{w.view_drop.value+'_' if w.view_drop.value is not None else ''}{w.species_drop.value}{'_'+averaging if averaging is not None else ''}_{startdate.strftime('%Y%m%d')}.png\"\n",
    "\n",
    "# Or type your own here:\n",
    "# file_name = \"\""
   ]
  },
  {
   "cell_type": "code",
   "execution_count": 8,
   "id": "43e55a56",
   "metadata": {},
   "outputs": [
    {
     "name": "stdout",
     "output_type": "stream",
     "text": [
      "/home/chospa/Documents/Github/serpentine/notebooks/sep_analysis_tools/STEREO-A_radio_spectrum_STEREO-A_SEPT_sun_ions_20211028.png\n"
     ]
    }
   ],
   "source": [
    "# Check that the name is correct\n",
    "print(file_name)"
   ]
  },
  {
   "cell_type": "code",
   "execution_count": 8,
   "id": "41d79b1d",
   "metadata": {},
   "outputs": [],
   "source": [
    "# Save plot\n",
    "Event_class.fig.savefig(file_name, facecolor=\"white\", transparent=False)"
   ]
  },
  {
   "cell_type": "markdown",
   "id": "84bd9954",
   "metadata": {},
   "source": [
    "---\n",
    "# FAQ / Problems <a class=\"anchor\" id=\"faq\"></a>\n",
    "\n",
    "- **I get some error about missing data, or that the data is broken, or something I don't understand.**\n",
    "\n",
    "Most times such a problem originates in an incomplete download of the corresponding data file. The easiest approach to solve that problem is to delete the file and run the code again to re-download it. \n",
    "To do this, first check if a `path` has been provided. If `path` has *not* been defined (or as `None`), the standard `path` for SunPy downloads should have been used. You can obtain it by running the following code cell:\n"
   ]
  },
  {
   "cell_type": "code",
   "execution_count": 3,
   "id": "8b5d767a",
   "metadata": {},
   "outputs": [
    {
     "data": {
      "text/plain": [
       "'/home/gieseler/sunpy/data'"
      ]
     },
     "execution_count": 3,
     "metadata": {},
     "output_type": "execute_result"
    }
   ],
   "source": [
    "import sunpy \n",
    "sunpy.config.get('downloads', 'download_dir')"
   ]
  },
  {
   "cell_type": "markdown",
   "id": "f01fedee",
   "metadata": {},
   "source": [
    "Open the corresponding directory in your file browser and look for the corresponding data file. Usually it's easiest to order the files by modification date, so that the latest modified file (which usually should be the culprit) comes first. Then delete the corresponding file(s), and run the code again."
   ]
  }
 ],
 "metadata": {
  "kernelspec": {
   "display_name": "Python 3 (ipykernel)",
   "language": "python",
   "name": "python3"
  },
  "language_info": {
   "codemirror_mode": {
    "name": "ipython",
    "version": 3
   },
   "file_extension": ".py",
   "mimetype": "text/x-python",
   "name": "python",
   "nbconvert_exporter": "python",
   "pygments_lexer": "ipython3",
   "version": "3.9.13"
  },
  "vscode": {
   "interpreter": {
    "hash": "e3b113a080b82eb2d3a809b09472aaf632ea244e00139a5388ab3f89cf23b31b"
   }
  }
 },
 "nbformat": 4,
 "nbformat_minor": 5
}
