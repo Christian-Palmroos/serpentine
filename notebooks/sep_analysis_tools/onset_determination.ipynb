{
 "cells": [
  {
   "cell_type": "markdown",
   "id": "033738d8",
   "metadata": {},
   "source": [
    "# First import the necessary library"
   ]
  },
  {
   "cell_type": "code",
   "execution_count": 1,
   "id": "148466c5",
   "metadata": {},
   "outputs": [],
   "source": [
    "from seppy.tools import Event\n",
    "import seppy.tools.widgets as w\n",
    "import datetime, os"
   ]
  },
  {
   "cell_type": "code",
   "execution_count": 2,
   "id": "5b6be1e9",
   "metadata": {},
   "outputs": [
    {
     "name": "stdout",
     "output_type": "stream",
     "text": [
      "0.1.dev53+g6e2722a.d20221026\n"
     ]
    }
   ],
   "source": [
    "from seppy import __version__\n",
    "print(__version__)"
   ]
  },
  {
   "cell_type": "markdown",
   "id": "dab5c8dc",
   "metadata": {},
   "source": [
    "# Choose the spacecraft, sensor, view direction and particle species:"
   ]
  },
  {
   "cell_type": "code",
   "execution_count": 3,
   "id": "2b7bef80",
   "metadata": {
    "tags": [
     "hide_code"
    ]
   },
   "outputs": [
    {
     "data": {
      "application/vnd.jupyter.widget-view+json": {
       "model_id": "e43223b1dc6047458f6643188d101e51",
       "version_major": 2,
       "version_minor": 0
      },
      "text/plain": [
       "Dropdown(description='Spacecraft:', options=('STEREO-A', 'STEREO-B', 'Solar Orbiter', 'SOHO', 'PSP'), value='S…"
      ]
     },
     "metadata": {},
     "output_type": "display_data"
    },
    {
     "data": {
      "application/vnd.jupyter.widget-view+json": {
       "model_id": "8a6fa1a2cc104e6794f59047474859d9",
       "version_major": 2,
       "version_minor": 0
      },
      "text/plain": [
       "Dropdown(description='Sensor:', options=('SEPT', 'HET'), value='SEPT')"
      ]
     },
     "metadata": {},
     "output_type": "display_data"
    },
    {
     "data": {
      "application/vnd.jupyter.widget-view+json": {
       "model_id": "d2f9c8425fe14f76ab9942c96ac06f25",
       "version_major": 2,
       "version_minor": 0
      },
      "text/plain": [
       "Dropdown(description='Viewing:', options=('sun', 'asun', 'north', 'south'), value='sun')"
      ]
     },
     "metadata": {},
     "output_type": "display_data"
    },
    {
     "data": {
      "application/vnd.jupyter.widget-view+json": {
       "model_id": "46ff92f9f83447fd96e77a70ca7f260b",
       "version_major": 2,
       "version_minor": 0
      },
      "text/plain": [
       "Dropdown(description='Species:', options=('ions', 'electrons'), value='ions')"
      ]
     },
     "metadata": {},
     "output_type": "display_data"
    }
   ],
   "source": [
    "display(w.spacecraft_drop, w.sensor_drop, w.view_drop, w.species_drop)"
   ]
  },
  {
   "cell_type": "markdown",
   "id": "954ef2b7",
   "metadata": {},
   "source": [
    "# Set the path to your data folder:"
   ]
  },
  {
   "cell_type": "code",
   "execution_count": 4,
   "id": "bc5ea83c",
   "metadata": {},
   "outputs": [],
   "source": [
    "# Path for the downloaded data (by default the current directory)\n",
    "data_path = f\"{os.getcwd()}/data/\""
   ]
  },
  {
   "cell_type": "markdown",
   "id": "5c36daed",
   "metadata": {},
   "source": [
    "# Choose time range for data loading, and create the Event object:"
   ]
  },
  {
   "cell_type": "code",
   "execution_count": 5,
   "id": "a8703956",
   "metadata": {
    "scrolled": true,
    "tags": []
   },
   "outputs": [],
   "source": [
    "# Format of date: year, month, day\n",
    "startdate = datetime.date(2021, 10, 28)\n",
    "enddate = datetime.date(2021, 10, 29)\n",
    "\n",
    "# Get event data:\n",
    "Event_onset = Event(spacecraft=w.spacecraft_drop.value, sensor=w.sensor_drop.value, \n",
    "                    data_level='l2', species = w.species_drop.value,\n",
    "                    start_date=startdate, end_date=enddate, \n",
    "                    data_path=data_path)"
   ]
  },
  {
   "cell_type": "markdown",
   "id": "ea0e8fb3",
   "metadata": {},
   "source": [
    "# Print out the energy channel keys and corresponding energy ranges"
   ]
  },
  {
   "cell_type": "code",
   "execution_count": 6,
   "id": "bbf9934a",
   "metadata": {},
   "outputs": [
    {
     "data": {
      "text/html": [
       "<div>\n",
       "<style scoped>\n",
       "    .dataframe tbody tr th:only-of-type {\n",
       "        vertical-align: middle;\n",
       "    }\n",
       "\n",
       "    .dataframe tbody tr th {\n",
       "        vertical-align: top;\n",
       "    }\n",
       "\n",
       "    .dataframe thead th {\n",
       "        text-align: right;\n",
       "    }\n",
       "</style>\n",
       "<table border=\"1\" class=\"dataframe\">\n",
       "  <thead>\n",
       "    <tr style=\"text-align: right;\">\n",
       "      <th></th>\n",
       "      <th>Energy range</th>\n",
       "    </tr>\n",
       "    <tr>\n",
       "      <th>Channel</th>\n",
       "      <th></th>\n",
       "    </tr>\n",
       "  </thead>\n",
       "  <tbody>\n",
       "    <tr>\n",
       "      <th>0</th>\n",
       "      <td>6.7 -   8.0 MeV</td>\n",
       "    </tr>\n",
       "    <tr>\n",
       "      <th>1</th>\n",
       "      <td>8.0 -   9.5 MeV</td>\n",
       "    </tr>\n",
       "    <tr>\n",
       "      <th>2</th>\n",
       "      <td>9.5 -  11.3 MeV</td>\n",
       "    </tr>\n",
       "    <tr>\n",
       "      <th>3</th>\n",
       "      <td>11.3 -  13.5 MeV</td>\n",
       "    </tr>\n",
       "    <tr>\n",
       "      <th>4</th>\n",
       "      <td>13.5 -  16.0 MeV</td>\n",
       "    </tr>\n",
       "    <tr>\n",
       "      <th>5</th>\n",
       "      <td>16.0 -  19.0 MeV</td>\n",
       "    </tr>\n",
       "    <tr>\n",
       "      <th>6</th>\n",
       "      <td>19.0 -  22.6 MeV</td>\n",
       "    </tr>\n",
       "    <tr>\n",
       "      <th>7</th>\n",
       "      <td>22.6 -  26.9 MeV</td>\n",
       "    </tr>\n",
       "    <tr>\n",
       "      <th>8</th>\n",
       "      <td>26.9 -  32.0 MeV</td>\n",
       "    </tr>\n",
       "    <tr>\n",
       "      <th>9</th>\n",
       "      <td>32.0 -  38.1 MeV</td>\n",
       "    </tr>\n",
       "    <tr>\n",
       "      <th>10</th>\n",
       "      <td>38.1 -  45.3 MeV</td>\n",
       "    </tr>\n",
       "    <tr>\n",
       "      <th>11</th>\n",
       "      <td>45.3 -  53.8 MeV</td>\n",
       "    </tr>\n",
       "    <tr>\n",
       "      <th>12</th>\n",
       "      <td>53.8 -  64.0 MeV</td>\n",
       "    </tr>\n",
       "    <tr>\n",
       "      <th>13</th>\n",
       "      <td>64.0 -  76.1 MeV</td>\n",
       "    </tr>\n",
       "    <tr>\n",
       "      <th>14</th>\n",
       "      <td>76.1 -  90.5 MeV</td>\n",
       "    </tr>\n",
       "  </tbody>\n",
       "</table>\n",
       "</div>"
      ],
      "text/plain": [
       "              Energy range\n",
       "Channel                   \n",
       "0          6.7 -   8.0 MeV\n",
       "1          8.0 -   9.5 MeV\n",
       "2          9.5 -  11.3 MeV\n",
       "3         11.3 -  13.5 MeV\n",
       "4         13.5 -  16.0 MeV\n",
       "5         16.0 -  19.0 MeV\n",
       "6         19.0 -  22.6 MeV\n",
       "7         22.6 -  26.9 MeV\n",
       "8         26.9 -  32.0 MeV\n",
       "9         32.0 -  38.1 MeV\n",
       "10        38.1 -  45.3 MeV\n",
       "11        45.3 -  53.8 MeV\n",
       "12        53.8 -  64.0 MeV\n",
       "13        64.0 -  76.1 MeV\n",
       "14        76.1 -  90.5 MeV"
      ]
     },
     "metadata": {},
     "output_type": "display_data"
    }
   ],
   "source": [
    "Event_onset.print_energies()"
   ]
  },
  {
   "cell_type": "markdown",
   "id": "11c591be",
   "metadata": {},
   "source": [
    "# Set the averaging period, background_range, channels to plot and the time range of the plot:"
   ]
  },
  {
   "cell_type": "code",
   "execution_count": 7,
   "id": "0acbcd61",
   "metadata": {},
   "outputs": [],
   "source": [
    "# Use pandas-compatible resampling period string, e.g. '10min' or '30s'\n",
    "# Set to None to not resample data\n",
    "averaging = None\n",
    "\n",
    "# Set the time range for what is considered the background preceding the event:\n",
    "# Format of datetime: year, month, day, hour, minute, second\n",
    "background_range = (datetime.datetime(2021, 10, 28, 2, 0, 0), \n",
    "                    datetime.datetime(2021, 10, 28, 6, 0, 0))\n",
    "\n",
    "# Set the channel(s) to plot (use a list to combine multiple channels):\n",
    "channels = 3\n",
    "\n",
    "# Set the time range for the plot:\n",
    "plot_range = None #[datetime.datetime(2021, 10, 28, 0),datetime.datetime(2021, 10, 29, 23)]"
   ]
  },
  {
   "cell_type": "markdown",
   "id": "d3ea3f29",
   "metadata": {},
   "source": [
    "# Run the cell to produce a plot"
   ]
  },
  {
   "cell_type": "code",
   "execution_count": 8,
   "id": "2179d683",
   "metadata": {
    "scrolled": false
   },
   "outputs": [
    {
     "ename": "KeyError",
     "evalue": "'A `SUN`_H_Flux_3'",
     "output_type": "error",
     "traceback": [
      "\u001b[0;31m---------------------------------------------------------------------------\u001b[0m",
      "\u001b[0;31mKeyError\u001b[0m                                  Traceback (most recent call last)",
      "File \u001b[0;32m~/anaconda3/envs/serpentine/lib/python3.9/site-packages/pandas/core/indexes/base.py:3629\u001b[0m, in \u001b[0;36mIndex.get_loc\u001b[0;34m(self, key, method, tolerance)\u001b[0m\n\u001b[1;32m   3628\u001b[0m \u001b[38;5;28;01mtry\u001b[39;00m:\n\u001b[0;32m-> 3629\u001b[0m     \u001b[38;5;28;01mreturn\u001b[39;00m \u001b[38;5;28;43mself\u001b[39;49m\u001b[38;5;241;43m.\u001b[39;49m\u001b[43m_engine\u001b[49m\u001b[38;5;241;43m.\u001b[39;49m\u001b[43mget_loc\u001b[49m\u001b[43m(\u001b[49m\u001b[43mcasted_key\u001b[49m\u001b[43m)\u001b[49m\n\u001b[1;32m   3630\u001b[0m \u001b[38;5;28;01mexcept\u001b[39;00m \u001b[38;5;167;01mKeyError\u001b[39;00m \u001b[38;5;28;01mas\u001b[39;00m err:\n",
      "File \u001b[0;32m~/anaconda3/envs/serpentine/lib/python3.9/site-packages/pandas/_libs/index.pyx:136\u001b[0m, in \u001b[0;36mpandas._libs.index.IndexEngine.get_loc\u001b[0;34m()\u001b[0m\n",
      "File \u001b[0;32m~/anaconda3/envs/serpentine/lib/python3.9/site-packages/pandas/_libs/index.pyx:163\u001b[0m, in \u001b[0;36mpandas._libs.index.IndexEngine.get_loc\u001b[0;34m()\u001b[0m\n",
      "File \u001b[0;32mpandas/_libs/hashtable_class_helper.pxi:5198\u001b[0m, in \u001b[0;36mpandas._libs.hashtable.PyObjectHashTable.get_item\u001b[0;34m()\u001b[0m\n",
      "File \u001b[0;32mpandas/_libs/hashtable_class_helper.pxi:5206\u001b[0m, in \u001b[0;36mpandas._libs.hashtable.PyObjectHashTable.get_item\u001b[0;34m()\u001b[0m\n",
      "\u001b[0;31mKeyError\u001b[0m: 'A `SUN`_H_Flux_3'",
      "\nThe above exception was the direct cause of the following exception:\n",
      "\u001b[0;31mKeyError\u001b[0m                                  Traceback (most recent call last)",
      "Input \u001b[0;32mIn [8]\u001b[0m, in \u001b[0;36m<cell line: 1>\u001b[0;34m()\u001b[0m\n\u001b[0;32m----> 1\u001b[0m flux, onset_stats, onset_found, peak_flux, peak_time, fig, bg_mean \u001b[38;5;241m=\u001b[39m \u001b[43mEvent_onset\u001b[49m\u001b[38;5;241;43m.\u001b[39;49m\u001b[43mfind_onset\u001b[49m\u001b[43m(\u001b[49m\u001b[43mviewing\u001b[49m\u001b[38;5;241;43m=\u001b[39;49m\u001b[43mw\u001b[49m\u001b[38;5;241;43m.\u001b[39;49m\u001b[43mview_drop\u001b[49m\u001b[38;5;241;43m.\u001b[39;49m\u001b[43mvalue\u001b[49m\u001b[43m,\u001b[49m\u001b[43m \u001b[49m\u001b[43mbackground_range\u001b[49m\u001b[38;5;241;43m=\u001b[39;49m\u001b[43mbackground_range\u001b[49m\u001b[43m,\u001b[49m\u001b[43m \u001b[49m\u001b[43mchannels\u001b[49m\u001b[38;5;241;43m=\u001b[39;49m\u001b[43mchannels\u001b[49m\u001b[43m,\u001b[49m\n\u001b[1;32m      2\u001b[0m \u001b[43m                                                                                            \u001b[49m\u001b[43mresample_period\u001b[49m\u001b[38;5;241;43m=\u001b[39;49m\u001b[43maveraging\u001b[49m\u001b[43m,\u001b[49m\u001b[43m \u001b[49m\u001b[43myscale\u001b[49m\u001b[38;5;241;43m=\u001b[39;49m\u001b[38;5;124;43m'\u001b[39;49m\u001b[38;5;124;43mlog\u001b[39;49m\u001b[38;5;124;43m'\u001b[39;49m\u001b[43m,\u001b[49m\u001b[43m \u001b[49m\u001b[43mcusum_window\u001b[49m\u001b[38;5;241;43m=\u001b[39;49m\u001b[38;5;241;43m30\u001b[39;49m\u001b[43m,\u001b[49m\u001b[43m \u001b[49m\u001b[43mxlim\u001b[49m\u001b[38;5;241;43m=\u001b[39;49m\u001b[43mplot_range\u001b[49m\u001b[43m)\u001b[49m\n\u001b[1;32m      3\u001b[0m onset \u001b[38;5;241m=\u001b[39m onset_stats[\u001b[38;5;241m-\u001b[39m\u001b[38;5;241m1\u001b[39m]\n\u001b[1;32m      4\u001b[0m peak_flux \u001b[38;5;241m=\u001b[39m peak_flux\u001b[38;5;241m.\u001b[39mvalues[\u001b[38;5;241m0\u001b[39m]\n",
      "File \u001b[0;32m~/anaconda3/envs/serpentine/lib/python3.9/site-packages/seppy/tools/__init__.py:1241\u001b[0m, in \u001b[0;36mEvent.find_onset\u001b[0;34m(self, viewing, bg_start, bg_length, background_range, resample_period, channels, yscale, cusum_window, xlim, x_sigma)\u001b[0m\n\u001b[1;32m   1237\u001b[0m \u001b[38;5;28;01mif\u001b[39;00m \u001b[38;5;28mself\u001b[39m\u001b[38;5;241m.\u001b[39msensor\u001b[38;5;241m.\u001b[39mlower() \u001b[38;5;241m==\u001b[39m \u001b[38;5;124m'\u001b[39m\u001b[38;5;124misois-epihi\u001b[39m\u001b[38;5;124m'\u001b[39m:\n\u001b[1;32m   1238\u001b[0m     \u001b[38;5;28;01mif\u001b[39;00m \u001b[38;5;28mself\u001b[39m\u001b[38;5;241m.\u001b[39mspecies \u001b[38;5;129;01min\u001b[39;00m [\u001b[38;5;124m'\u001b[39m\u001b[38;5;124mp\u001b[39m\u001b[38;5;124m'\u001b[39m, \u001b[38;5;124m'\u001b[39m\u001b[38;5;124mi\u001b[39m\u001b[38;5;124m'\u001b[39m]:\n\u001b[1;32m   1239\u001b[0m         \u001b[38;5;66;03m# We're using here only the HET instrument of EPIHI (and not LET1 or LET2)\u001b[39;00m\n\u001b[1;32m   1240\u001b[0m         df_flux, en_channel_string \u001b[38;5;241m=\u001b[39m\\\n\u001b[0;32m-> 1241\u001b[0m             \u001b[43mcalc_av_en_flux_PSP_EPIHI\u001b[49m\u001b[43m(\u001b[49m\u001b[43mdf\u001b[49m\u001b[38;5;241;43m=\u001b[39;49m\u001b[38;5;28;43mself\u001b[39;49m\u001b[38;5;241;43m.\u001b[39;49m\u001b[43mcurrent_df_i\u001b[49m\u001b[43m,\u001b[49m\n\u001b[1;32m   1242\u001b[0m \u001b[43m                                      \u001b[49m\u001b[43menergies\u001b[49m\u001b[38;5;241;43m=\u001b[39;49m\u001b[38;5;28;43mself\u001b[39;49m\u001b[38;5;241;43m.\u001b[39;49m\u001b[43mcurrent_i_energies\u001b[49m\u001b[43m,\u001b[49m\n\u001b[1;32m   1243\u001b[0m \u001b[43m                                      \u001b[49m\u001b[43men_channel\u001b[49m\u001b[38;5;241;43m=\u001b[39;49m\u001b[43mchannels\u001b[49m\u001b[43m,\u001b[49m\n\u001b[1;32m   1244\u001b[0m \u001b[43m                                      \u001b[49m\u001b[43mspecies\u001b[49m\u001b[38;5;241;43m=\u001b[39;49m\u001b[38;5;124;43m'\u001b[39;49m\u001b[38;5;124;43mp\u001b[39;49m\u001b[38;5;124;43m'\u001b[39;49m\u001b[43m,\u001b[49m\n\u001b[1;32m   1245\u001b[0m \u001b[43m                                      \u001b[49m\u001b[43minstrument\u001b[49m\u001b[38;5;241;43m=\u001b[39;49m\u001b[38;5;124;43m'\u001b[39;49m\u001b[38;5;124;43mhet\u001b[39;49m\u001b[38;5;124;43m'\u001b[39;49m\u001b[43m,\u001b[49m\n\u001b[1;32m   1246\u001b[0m \u001b[43m                                      \u001b[49m\u001b[43mviewing\u001b[49m\u001b[38;5;241;43m=\u001b[39;49m\u001b[43mviewing\u001b[49m\u001b[38;5;241;43m.\u001b[39;49m\u001b[43mupper\u001b[49m\u001b[43m(\u001b[49m\u001b[43m)\u001b[49m\u001b[43m)\u001b[49m\n\u001b[1;32m   1247\u001b[0m     \u001b[38;5;28;01mif\u001b[39;00m \u001b[38;5;28mself\u001b[39m\u001b[38;5;241m.\u001b[39mspecies \u001b[38;5;241m==\u001b[39m \u001b[38;5;124m'\u001b[39m\u001b[38;5;124me\u001b[39m\u001b[38;5;124m'\u001b[39m:\n\u001b[1;32m   1248\u001b[0m         \u001b[38;5;66;03m# We're using here only the HET instrument of EPIHI (and not LET1 or LET2)\u001b[39;00m\n\u001b[1;32m   1249\u001b[0m         df_flux, en_channel_string \u001b[38;5;241m=\u001b[39m\\\n\u001b[1;32m   1250\u001b[0m             calc_av_en_flux_PSP_EPIHI(df\u001b[38;5;241m=\u001b[39m\u001b[38;5;28mself\u001b[39m\u001b[38;5;241m.\u001b[39mcurrent_df_e,\n\u001b[1;32m   1251\u001b[0m                                       energies\u001b[38;5;241m=\u001b[39m\u001b[38;5;28mself\u001b[39m\u001b[38;5;241m.\u001b[39mcurrent_e_energies,\n\u001b[0;32m   (...)\u001b[0m\n\u001b[1;32m   1254\u001b[0m                                       instrument\u001b[38;5;241m=\u001b[39m\u001b[38;5;124m'\u001b[39m\u001b[38;5;124mhet\u001b[39m\u001b[38;5;124m'\u001b[39m,\n\u001b[1;32m   1255\u001b[0m                                       viewing\u001b[38;5;241m=\u001b[39mviewing\u001b[38;5;241m.\u001b[39mupper())\n",
      "File \u001b[0;32m~/anaconda3/envs/serpentine/lib/python3.9/site-packages/seppy/loader/psp.py:417\u001b[0m, in \u001b[0;36mcalc_av_en_flux_PSP_EPIHI\u001b[0;34m(df, energies, en_channel, species, instrument, viewing)\u001b[0m\n\u001b[1;32m    415\u001b[0m     \u001b[38;5;28;01melse\u001b[39;00m:\n\u001b[1;32m    416\u001b[0m         en_channel \u001b[38;5;241m=\u001b[39m en_channel[\u001b[38;5;241m0\u001b[39m]\n\u001b[0;32m--> 417\u001b[0m         flux_out \u001b[38;5;241m=\u001b[39m pd\u001b[38;5;241m.\u001b[39mDataFrame({\u001b[38;5;124m'\u001b[39m\u001b[38;5;124mflux\u001b[39m\u001b[38;5;124m'\u001b[39m: \u001b[43mdf\u001b[49m\u001b[43m[\u001b[49m\u001b[38;5;124;43mf\u001b[39;49m\u001b[38;5;124;43m'\u001b[39;49m\u001b[38;5;132;43;01m{\u001b[39;49;00m\u001b[43mviewing\u001b[49m\u001b[38;5;241;43m.\u001b[39;49m\u001b[43mupper\u001b[49m\u001b[43m(\u001b[49m\u001b[43m)\u001b[49m\u001b[38;5;132;43;01m}\u001b[39;49;00m\u001b[38;5;124;43m_\u001b[39;49m\u001b[38;5;132;43;01m{\u001b[39;49;00m\u001b[43mflux_key\u001b[49m\u001b[38;5;132;43;01m}\u001b[39;49;00m\u001b[38;5;124;43m_\u001b[39;49m\u001b[38;5;132;43;01m{\u001b[39;49;00m\u001b[43men_channel\u001b[49m\u001b[38;5;132;43;01m}\u001b[39;49;00m\u001b[38;5;124;43m'\u001b[39;49m\u001b[43m]\u001b[49m}, index\u001b[38;5;241m=\u001b[39mdf\u001b[38;5;241m.\u001b[39mindex)\n\u001b[1;32m    418\u001b[0m \u001b[38;5;28;01melse\u001b[39;00m:\n\u001b[1;32m    419\u001b[0m     flux_out \u001b[38;5;241m=\u001b[39m pd\u001b[38;5;241m.\u001b[39mDataFrame({\u001b[38;5;124m'\u001b[39m\u001b[38;5;124mflux\u001b[39m\u001b[38;5;124m'\u001b[39m: df[\u001b[38;5;124mf\u001b[39m\u001b[38;5;124m'\u001b[39m\u001b[38;5;132;01m{\u001b[39;00mviewing\u001b[38;5;241m.\u001b[39mupper()\u001b[38;5;132;01m}\u001b[39;00m\u001b[38;5;124m_\u001b[39m\u001b[38;5;132;01m{\u001b[39;00mflux_key\u001b[38;5;132;01m}\u001b[39;00m\u001b[38;5;124m_\u001b[39m\u001b[38;5;132;01m{\u001b[39;00men_channel\u001b[38;5;132;01m}\u001b[39;00m\u001b[38;5;124m'\u001b[39m]}, index\u001b[38;5;241m=\u001b[39mdf\u001b[38;5;241m.\u001b[39mindex)\n",
      "File \u001b[0;32m~/anaconda3/envs/serpentine/lib/python3.9/site-packages/pandas/core/frame.py:3505\u001b[0m, in \u001b[0;36mDataFrame.__getitem__\u001b[0;34m(self, key)\u001b[0m\n\u001b[1;32m   3503\u001b[0m \u001b[38;5;28;01mif\u001b[39;00m \u001b[38;5;28mself\u001b[39m\u001b[38;5;241m.\u001b[39mcolumns\u001b[38;5;241m.\u001b[39mnlevels \u001b[38;5;241m>\u001b[39m \u001b[38;5;241m1\u001b[39m:\n\u001b[1;32m   3504\u001b[0m     \u001b[38;5;28;01mreturn\u001b[39;00m \u001b[38;5;28mself\u001b[39m\u001b[38;5;241m.\u001b[39m_getitem_multilevel(key)\n\u001b[0;32m-> 3505\u001b[0m indexer \u001b[38;5;241m=\u001b[39m \u001b[38;5;28;43mself\u001b[39;49m\u001b[38;5;241;43m.\u001b[39;49m\u001b[43mcolumns\u001b[49m\u001b[38;5;241;43m.\u001b[39;49m\u001b[43mget_loc\u001b[49m\u001b[43m(\u001b[49m\u001b[43mkey\u001b[49m\u001b[43m)\u001b[49m\n\u001b[1;32m   3506\u001b[0m \u001b[38;5;28;01mif\u001b[39;00m is_integer(indexer):\n\u001b[1;32m   3507\u001b[0m     indexer \u001b[38;5;241m=\u001b[39m [indexer]\n",
      "File \u001b[0;32m~/anaconda3/envs/serpentine/lib/python3.9/site-packages/pandas/core/indexes/base.py:3631\u001b[0m, in \u001b[0;36mIndex.get_loc\u001b[0;34m(self, key, method, tolerance)\u001b[0m\n\u001b[1;32m   3629\u001b[0m     \u001b[38;5;28;01mreturn\u001b[39;00m \u001b[38;5;28mself\u001b[39m\u001b[38;5;241m.\u001b[39m_engine\u001b[38;5;241m.\u001b[39mget_loc(casted_key)\n\u001b[1;32m   3630\u001b[0m \u001b[38;5;28;01mexcept\u001b[39;00m \u001b[38;5;167;01mKeyError\u001b[39;00m \u001b[38;5;28;01mas\u001b[39;00m err:\n\u001b[0;32m-> 3631\u001b[0m     \u001b[38;5;28;01mraise\u001b[39;00m \u001b[38;5;167;01mKeyError\u001b[39;00m(key) \u001b[38;5;28;01mfrom\u001b[39;00m \u001b[38;5;21;01merr\u001b[39;00m\n\u001b[1;32m   3632\u001b[0m \u001b[38;5;28;01mexcept\u001b[39;00m \u001b[38;5;167;01mTypeError\u001b[39;00m:\n\u001b[1;32m   3633\u001b[0m     \u001b[38;5;66;03m# If we have a listlike key, _check_indexing_error will raise\u001b[39;00m\n\u001b[1;32m   3634\u001b[0m     \u001b[38;5;66;03m#  InvalidIndexError. Otherwise we fall through and re-raise\u001b[39;00m\n\u001b[1;32m   3635\u001b[0m     \u001b[38;5;66;03m#  the TypeError.\u001b[39;00m\n\u001b[1;32m   3636\u001b[0m     \u001b[38;5;28mself\u001b[39m\u001b[38;5;241m.\u001b[39m_check_indexing_error(key)\n",
      "\u001b[0;31mKeyError\u001b[0m: 'A `SUN`_H_Flux_3'"
     ]
    }
   ],
   "source": [
    "flux, onset_stats, onset_found, peak_flux, peak_time, fig, bg_mean = Event_onset.find_onset(viewing=w.view_drop.value, background_range=background_range, channels=channels,\n",
    "                                                                                            resample_period=averaging, yscale='log', cusum_window=30, xlim=plot_range)\n",
    "onset = onset_stats[-1]\n",
    "peak_flux = peak_flux.values[0]\n",
    "output = Event_onset.output"
   ]
  },
  {
   "cell_type": "markdown",
   "id": "9c1269d4",
   "metadata": {},
   "source": [
    "# output is a dictionary, that contains 'flux_series', 'onset_stats', 'onset_found', 'onset', 'peak_flux', 'peak_time', 'fig' and 'bg_mean'"
   ]
  },
  {
   "cell_type": "code",
   "execution_count": 33,
   "id": "b732278a",
   "metadata": {},
   "outputs": [
    {
     "name": "stdout",
     "output_type": "stream",
     "text": [
      "Onset: 2021-10-09 06:35:29\n",
      "Peak flux: 7.23e-01\n",
      "Peak time: 2021-10-09 07:06:29\n",
      "Bg mean: 2.22e-03\n"
     ]
    }
   ],
   "source": [
    "print(f\"Onset: {output['onset'].round(freq='s')}\")\n",
    "print(f\"Peak flux: {output['peak_flux']:.2e}\")\n",
    "print(f\"Peak time: {output['peak_time'].round(freq='s')}\")\n",
    "print(f\"Bg mean: {output['bg_mean']:.2e}\")"
   ]
  },
  {
   "cell_type": "markdown",
   "id": "08f5c653",
   "metadata": {},
   "source": [
    "# Saving figures"
   ]
  },
  {
   "cell_type": "code",
   "execution_count": 34,
   "id": "41a507ee",
   "metadata": {},
   "outputs": [],
   "source": [
    "# Path to save the plots\n",
    "plot_path = f'{os.getcwd()}'\n",
    "\n",
    "# Use a pre-generated name for the file:\n",
    "file_name = f\"{plot_path}{os.sep}{w.spacecraft_drop.value.replace(' ', '_')}_{w.sensor_drop.value}_{w.view_drop.value+'_' if w.view_drop.value is not None else ''}{w.species_drop.value}{'_'+averaging if averaging is not None else ''}_{startdate.strftime('%Y%m%d')}.png\"\n",
    "\n",
    "# Or type your own here:\n",
    "# file_name = \"\""
   ]
  },
  {
   "cell_type": "code",
   "execution_count": 35,
   "id": "d606e489",
   "metadata": {},
   "outputs": [
    {
     "name": "stdout",
     "output_type": "stream",
     "text": [
      "/home/chospa/Documents/Github/serpentine/notebooks/sep_analysis_tools/PSP_isois-epihi_A_electrons_20211009.png\n"
     ]
    }
   ],
   "source": [
    "# Check that the name is correct\n",
    "print(file_name)"
   ]
  },
  {
   "cell_type": "code",
   "execution_count": 23,
   "id": "9756d984",
   "metadata": {},
   "outputs": [],
   "source": [
    "# Save plot\n",
    "fig.savefig(file_name, facecolor= 'white', transparent=False)"
   ]
  },
  {
   "cell_type": "markdown",
   "id": "209ef4f4",
   "metadata": {},
   "source": [
    "---\n",
    "# FAQ / Problems <a class=\"anchor\" id=\"faq\"></a>\n",
    "\n",
    "- **I get some error about missing data, or that the data is broken, or something I don't understand.**\n",
    "\n",
    "Most times such a problem originates in an incomplete download of the corresponding data file. The easiest approach to solve that problem is to delete the file and run the code again to re-download it. \n",
    "To do this, first check if a `path` has been provided. If `path` has *not* been defined (or as `None`), the standard `path` for SunPy downloads should have been used. You can obtain it by running the following code cell:\n"
   ]
  },
  {
   "cell_type": "code",
   "execution_count": 1,
   "id": "bddab4ee",
   "metadata": {},
   "outputs": [
    {
     "data": {
      "text/plain": [
       "'/home/gieseler/sunpy/data'"
      ]
     },
     "execution_count": 1,
     "metadata": {},
     "output_type": "execute_result"
    }
   ],
   "source": [
    "import sunpy \n",
    "sunpy.config.get('downloads', 'download_dir')"
   ]
  },
  {
   "cell_type": "markdown",
   "id": "8278a6a2",
   "metadata": {},
   "source": [
    "Open the corresponding directory in your file browser and look for the corresponding data file. Usually it's easiest to order the files by modification date, so that the latest modified file (which usually should be the culprit) comes first. Then delete the corresponding file(s), and run the code again."
   ]
  },
  {
   "cell_type": "code",
   "execution_count": 9,
   "id": "4ff3ff81",
   "metadata": {},
   "outputs": [
    {
     "data": {
      "text/html": [
       "<div>\n",
       "<style scoped>\n",
       "    .dataframe tbody tr th:only-of-type {\n",
       "        vertical-align: middle;\n",
       "    }\n",
       "\n",
       "    .dataframe tbody tr th {\n",
       "        vertical-align: top;\n",
       "    }\n",
       "\n",
       "    .dataframe thead th {\n",
       "        text-align: right;\n",
       "    }\n",
       "</style>\n",
       "<table border=\"1\" class=\"dataframe\">\n",
       "  <thead>\n",
       "    <tr style=\"text-align: right;\">\n",
       "      <th></th>\n",
       "      <th>col2</th>\n",
       "    </tr>\n",
       "    <tr>\n",
       "      <th>col1</th>\n",
       "      <th></th>\n",
       "    </tr>\n",
       "  </thead>\n",
       "  <tbody>\n",
       "    <tr>\n",
       "      <th>1</th>\n",
       "      <td>one</td>\n",
       "    </tr>\n",
       "    <tr>\n",
       "      <th>2</th>\n",
       "      <td>two</td>\n",
       "    </tr>\n",
       "    <tr>\n",
       "      <th>3</th>\n",
       "      <td>three</td>\n",
       "    </tr>\n",
       "    <tr>\n",
       "      <th>4</th>\n",
       "      <td>four</td>\n",
       "    </tr>\n",
       "    <tr>\n",
       "      <th>5</th>\n",
       "      <td>five</td>\n",
       "    </tr>\n",
       "  </tbody>\n",
       "</table>\n",
       "</div>"
      ],
      "text/plain": [
       "       col2\n",
       "col1       \n",
       "1       one\n",
       "2       two\n",
       "3     three\n",
       "4      four\n",
       "5      five"
      ]
     },
     "execution_count": 9,
     "metadata": {},
     "output_type": "execute_result"
    }
   ],
   "source": [
    "import pandas as pd\n",
    "\n",
    "col_nams = [\"col1\", \"col2\"]\n",
    "data_arr1, data_arr2 = [1,2,3,4,5], [\"one\", \"two\", \"three\", \"four\", \"five\"]\n",
    "tdict = {\n",
    "    col_nams[0] : data_arr1,\n",
    "    col_nams[1] : data_arr2\n",
    "}\n",
    "\n",
    "tdf = pd.DataFrame(data=tdict)\n",
    "tdf = tdf.set_index(\"col1\")\n",
    "\n",
    "display(tdf)"
   ]
  },
  {
   "cell_type": "code",
   "execution_count": 10,
   "id": "56599767",
   "metadata": {},
   "outputs": [
    {
     "data": {
      "text/html": [
       "<div>\n",
       "<style scoped>\n",
       "    .dataframe tbody tr th:only-of-type {\n",
       "        vertical-align: middle;\n",
       "    }\n",
       "\n",
       "    .dataframe tbody tr th {\n",
       "        vertical-align: top;\n",
       "    }\n",
       "\n",
       "    .dataframe thead th {\n",
       "        text-align: right;\n",
       "    }\n",
       "</style>\n",
       "<table border=\"1\" class=\"dataframe\">\n",
       "  <thead>\n",
       "    <tr style=\"text-align: right;\">\n",
       "      <th></th>\n",
       "      <th>col2</th>\n",
       "    </tr>\n",
       "    <tr>\n",
       "      <th>col1</th>\n",
       "      <th></th>\n",
       "    </tr>\n",
       "  </thead>\n",
       "  <tbody>\n",
       "    <tr>\n",
       "      <th>1</th>\n",
       "      <td>one</td>\n",
       "    </tr>\n",
       "    <tr>\n",
       "      <th>2</th>\n",
       "      <td>two</td>\n",
       "    </tr>\n",
       "    <tr>\n",
       "      <th>3</th>\n",
       "      <td>three</td>\n",
       "    </tr>\n",
       "    <tr>\n",
       "      <th>4</th>\n",
       "      <td>four</td>\n",
       "    </tr>\n",
       "    <tr>\n",
       "      <th>5</th>\n",
       "      <td>five</td>\n",
       "    </tr>\n",
       "  </tbody>\n",
       "</table>\n",
       "</div>"
      ],
      "text/plain": [
       "       col2\n",
       "col1       \n",
       "1       one\n",
       "2       two\n",
       "3     three\n",
       "4      four\n",
       "5      five"
      ]
     },
     "metadata": {},
     "output_type": "display_data"
    }
   ],
   "source": [
    "display(tdf)"
   ]
  },
  {
   "cell_type": "code",
   "execution_count": null,
   "id": "e2fa4e7e",
   "metadata": {},
   "outputs": [],
   "source": []
  },
  {
   "cell_type": "code",
   "execution_count": null,
   "id": "cf886a5d",
   "metadata": {},
   "outputs": [],
   "source": []
  }
 ],
 "metadata": {
  "kernelspec": {
   "display_name": "Python 3 (ipykernel)",
   "language": "python",
   "name": "python3"
  },
  "language_info": {
   "codemirror_mode": {
    "name": "ipython",
    "version": 3
   },
   "file_extension": ".py",
   "mimetype": "text/x-python",
   "name": "python",
   "nbconvert_exporter": "python",
   "pygments_lexer": "ipython3",
   "version": "3.9.13"
  },
  "vscode": {
   "interpreter": {
    "hash": "e3b113a080b82eb2d3a809b09472aaf632ea244e00139a5388ab3f89cf23b31b"
   }
  }
 },
 "nbformat": 4,
 "nbformat_minor": 5
}
